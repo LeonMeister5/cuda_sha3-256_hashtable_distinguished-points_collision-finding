{
 "cells": [
  {
   "cell_type": "code",
   "execution_count": null,
   "id": "a27ee3e8",
   "metadata": {},
   "outputs": [
    {
     "data": {
      "text/plain": [
       "'\\nhex_inputs = [\\n    \"9b6b3b5242cbd5ca\",\\n    \"57c3625b798459f4\"\\n]\\n'"
      ]
     },
     "execution_count": 3,
     "metadata": {},
     "output_type": "execute_result"
    }
   ],
   "source": [
    "'''\n",
    "hex_inputs = [\n",
    "    \"62d01fc66475e90654ed\",\n",
    "    \"ea346762b579deaa4cfd\"\n",
    "]\n",
    "''' # 80bit\n"
   ]
  },
  {
   "cell_type": "code",
   "execution_count": 3,
   "id": "34254bf6",
   "metadata": {},
   "outputs": [
    {
     "name": "stdout",
     "output_type": "stream",
     "text": [
      "Input 1: 62d01fc66475e90654ed\n",
      "SHA3-256: 29dc4453b681c898f6be42aaa5f7bc752fa2cfef1decec49552a865758fbba1f\n",
      "\n",
      "Input 2: ea346762b579deaa4cfd\n",
      "SHA3-256: 29dc4453b681c898f6bedd0112ba9cd04f65cb6c74bed03f05ea05f3a85454db\n",
      "\n",
      "Matched 80 bits\n"
     ]
    }
   ],
   "source": [
    "import hashlib\n",
    "\n",
    "prefix = b\"G2406344B\"\n",
    "\n",
    "hex_inputs = [\n",
    "    \"62d01fc66475e90654ed\",\n",
    "    \"ea346762b579deaa4cfd\"\n",
    "]\n",
    "\n",
    "inputs = [prefix + bytes.fromhex(hx) for hx in hex_inputs]\n",
    "\n",
    "hashes = [hashlib.sha3_256(inp).digest() for inp in inputs]\n",
    "\n",
    "for i, h in enumerate(hashes):\n",
    "    print(f\"Input {i+1}: {hex_inputs[i]}\")\n",
    "    print(f\"SHA3-256: {h.hex()}\\n\")\n",
    "\n",
    "def compare_bits(a, b):\n",
    "    bits = 0\n",
    "    for x, y in zip(a, b):\n",
    "        for i in range(8):\n",
    "            if (x >> (7-i)) & 1 != (y >> (7-i)) & 1:\n",
    "                return bits\n",
    "            bits += 1\n",
    "    return bits\n",
    "\n",
    "matched_bits = compare_bits(hashes[0], hashes[1])\n",
    "print(f\"Matched {matched_bits} bits\")\n",
    "\n"
   ]
  }
 ],
 "metadata": {
  "kernelspec": {
   "display_name": "Python 3",
   "language": "python",
   "name": "python3"
  },
  "language_info": {
   "codemirror_mode": {
    "name": "ipython",
    "version": 3
   },
   "file_extension": ".py",
   "mimetype": "text/x-python",
   "name": "python",
   "nbconvert_exporter": "python",
   "pygments_lexer": "ipython3",
   "version": "3.12.3"
  }
 },
 "nbformat": 4,
 "nbformat_minor": 5
}
